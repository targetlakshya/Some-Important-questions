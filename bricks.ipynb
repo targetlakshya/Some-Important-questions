{
 "cells": [
  {
   "cell_type": "code",
   "execution_count": 1,
   "metadata": {},
   "outputs": [
    {
     "name": "stdout",
     "output_type": "stream",
     "text": [
      "4 2\n"
     ]
    }
   ],
   "source": [
    "# Brick 1 Swap two variable using 3rd variable\n",
    "\n",
    "a = 2\n",
    "b = 4\n",
    "c = a\n",
    "a = b\n",
    "b = c\n",
    "print(a,b)"
   ]
  },
  {
   "cell_type": "code",
   "execution_count": 3,
   "metadata": {},
   "outputs": [
    {
     "name": "stdout",
     "output_type": "stream",
     "text": [
      "4 2\n"
     ]
    }
   ],
   "source": [
    "# Brick 2 Swap two variable without using 3rd variable\n",
    "\n",
    "a = 2\n",
    "b = 4\n",
    "a = a + b\n",
    "b = a - b\n",
    "a= a - b\n",
    "print(a,b)\n"
   ]
  },
  {
   "cell_type": "code",
   "execution_count": 4,
   "metadata": {},
   "outputs": [
    {
     "name": "stdout",
     "output_type": "stream",
     "text": [
      "6 2 4\n"
     ]
    }
   ],
   "source": [
    "# Brick 3 Swap Three variable without using 4th variable\n",
    "\n",
    "a = 2\n",
    "b = 4\n",
    "c = 6\n",
    "a = a + b + c\n",
    "b = a - b - c\n",
    "c = a - b - c\n",
    "a = a - b - c\n",
    "print(a,b,c)\n",
    "\n"
   ]
  },
  {
   "cell_type": "code",
   "execution_count": 6,
   "metadata": {},
   "outputs": [
    {
     "name": "stdout",
     "output_type": "stream",
     "text": [
      "Divisible\n"
     ]
    }
   ],
   "source": [
    "# Brick 4 A Number is divisible by another no or not\n",
    "\n",
    "a = 6\n",
    "b = 2\n",
    "if a % b == 0 :\n",
    "    print(\"Divisible\")\n",
    "else :\n",
    "    print(\"Not Divisible\")"
   ]
  },
  {
   "cell_type": "code",
   "execution_count": 7,
   "metadata": {},
   "outputs": [
    {
     "name": "stdout",
     "output_type": "stream",
     "text": [
      "EVEN\n"
     ]
    }
   ],
   "source": [
    "# Brick 5 Even or odd\n",
    "\n",
    "n = int(input())\n",
    "if n % 2 == 0 :\n",
    "    print(\"EVEN\")\n",
    "else :\n",
    "    print('odd')\n",
    "    "
   ]
  },
  {
   "cell_type": "code",
   "execution_count": 9,
   "metadata": {},
   "outputs": [
    {
     "name": "stdout",
     "output_type": "stream",
     "text": [
      "D\n"
     ]
    }
   ],
   "source": [
    "# Brick 6 Student Grade\n",
    "\n",
    "marks = int(input(\"Give the Percentage of Student\\n\"))\n",
    "\n",
    "if marks > 90 and marks <= 100 :\n",
    "    print(\"A\")\n",
    "elif marks > 80 and marks <= 90 :\n",
    "    print(\"B\")\n",
    "elif marks > 70 and marks <= 80:\n",
    "    print(\"C\")\n",
    "elif marks > 50 and marks <=70 :\n",
    "    print(\"D\")\n",
    "elif marks > 33 and marks <= 50:\n",
    "    print(\"E\")\n",
    "elif marks > 100 :\n",
    "    print(\"Invalid\")\n",
    "else :\n",
    "    print(\"Fail!\")\n"
   ]
  },
  {
   "cell_type": "code",
   "execution_count": null,
   "metadata": {},
   "outputs": [],
   "source": []
  },
  {
   "cell_type": "code",
   "execution_count": null,
   "metadata": {},
   "outputs": [],
   "source": []
  }
 ],
 "metadata": {
  "kernelspec": {
   "display_name": "Python 3",
   "language": "python",
   "name": "python3"
  },
  "language_info": {
   "codemirror_mode": {
    "name": "ipython",
    "version": 3
   },
   "file_extension": ".py",
   "mimetype": "text/x-python",
   "name": "python",
   "nbconvert_exporter": "python",
   "pygments_lexer": "ipython3",
   "version": "3.8.0"
  }
 },
 "nbformat": 4,
 "nbformat_minor": 2
}
