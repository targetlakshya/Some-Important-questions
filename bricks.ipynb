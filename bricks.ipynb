{
 "cells": [
  {
   "cell_type": "code",
   "execution_count": 1,
   "metadata": {},
   "outputs": [
    {
     "name": "stdout",
     "output_type": "stream",
     "text": [
      "4 2\n"
     ]
    }
   ],
   "source": [
    "# Brick 1 Swap two variable using 3rd variable\n",
    "\n",
    "a = 2\n",
    "b = 4\n",
    "c = a\n",
    "a = b\n",
    "b = c\n",
    "print(a,b)"
   ]
  },
  {
   "cell_type": "code",
   "execution_count": 3,
   "metadata": {},
   "outputs": [
    {
     "name": "stdout",
     "output_type": "stream",
     "text": [
      "4 2\n"
     ]
    }
   ],
   "source": [
    "# Brick 2 Swap two variable without using 3rd variable\n",
    "\n",
    "a = 2\n",
    "b = 4\n",
    "a = a + b\n",
    "b = a - b\n",
    "a= a - b\n",
    "print(a,b)\n"
   ]
  },
  {
   "cell_type": "code",
   "execution_count": 4,
   "metadata": {},
   "outputs": [
    {
     "name": "stdout",
     "output_type": "stream",
     "text": [
      "6 2 4\n"
     ]
    }
   ],
   "source": [
    "# Brick 3 Swap Three variable without using 4th variable\n",
    "\n",
    "a = 2\n",
    "b = 4\n",
    "c = 6\n",
    "a = a + b + c\n",
    "b = a - b - c\n",
    "c = a - b - c\n",
    "a = a - b - c\n",
    "print(a,b,c)\n",
    "\n"
   ]
  },
  {
   "cell_type": "code",
   "execution_count": 1,
   "metadata": {},
   "outputs": [
    {
     "name": "stdout",
     "output_type": "stream",
     "text": [
      "Divisible\n"
     ]
    }
   ],
   "source": [
    "# Brick 4 A Number is divisible by another no or not\n",
    "\n",
    "a = 6\n",
    "b = 2\n",
    "if a % b == 0 :\n",
    "    print(\"Divisible\")\n",
    "else :\n",
    "    print(\"Not Divisible\")"
   ]
  },
  {
   "cell_type": "code",
   "execution_count": 7,
   "metadata": {},
   "outputs": [
    {
     "name": "stdout",
     "output_type": "stream",
     "text": [
      "EVEN\n"
     ]
    }
   ],
   "source": [
    "# Brick 5 Even or odd\n",
    "\n",
    "n = int(input())\n",
    "if n % 2 == 0 :\n",
    "    print(\"EVEN\")\n",
    "else :\n",
    "    print('odd')\n",
    "    "
   ]
  },
  {
   "cell_type": "code",
   "execution_count": 9,
   "metadata": {},
   "outputs": [
    {
     "name": "stdout",
     "output_type": "stream",
     "text": [
      "D\n"
     ]
    }
   ],
   "source": [
    "# Brick 6 Student Grade\n",
    "\n",
    "marks = int(input(\"Give the Percentage of Student\\n\"))\n",
    "\n",
    "if marks > 90 and marks <= 100 :\n",
    "    print(\"A\")\n",
    "elif marks > 80 and marks <= 90 :\n",
    "    print(\"B\")\n",
    "elif marks > 70 and marks <= 80:\n",
    "    print(\"C\")\n",
    "elif marks > 50 and marks <=70 :\n",
    "    print(\"D\")\n",
    "elif marks > 33 and marks <= 50:\n",
    "    print(\"E\")\n",
    "elif marks > 100 :\n",
    "    print(\"Invalid\")\n",
    "else :\n",
    "    print(\"Fail!\")\n"
   ]
  },
  {
   "cell_type": "code",
   "execution_count": 1,
   "metadata": {},
   "outputs": [
    {
     "name": "stdout",
     "output_type": "stream",
     "text": [
      "Leap Year\n"
     ]
    }
   ],
   "source": [
    "# Brick 7 Leap Year\n",
    "\n",
    "year = int(input(\"Enter Year: \"))\n",
    "if year % 400 == 0:\n",
    "    print(\"Leap Year\")\n",
    "elif year % 4 == 0 and year % 100 != 0:\n",
    "    print(\"Leap Year\")\n",
    "else :\n",
    "    print(\"Not a leap year\")"
   ]
  },
  {
   "cell_type": "code",
   "execution_count": 2,
   "metadata": {},
   "outputs": [
    {
     "name": "stdout",
     "output_type": "stream",
     "text": [
      "12\n",
      "24\n",
      "36\n",
      "48\n",
      "60\n",
      "72\n",
      "84\n",
      "96\n",
      "108\n",
      "120\n"
     ]
    }
   ],
   "source": [
    "# Brick 8 Table of 12\n",
    "\n",
    "i = 12\n",
    "while i <=120:\n",
    "    print(i)\n",
    "    i = i + 12"
   ]
  },
  {
   "cell_type": "code",
   "execution_count": null,
   "metadata": {},
   "outputs": [],
   "source": [
    "# Brick 9 Table of 12\n",
    "\n",
    "i = 5\n",
    "while i <=50:\n",
    "    print(i)\n",
    "    i = i + 5"
   ]
  },
  {
   "cell_type": "code",
   "execution_count": 11,
   "metadata": {},
   "outputs": [
    {
     "name": "stdout",
     "output_type": "stream",
     "text": [
      "0\n",
      "2\n",
      "4\n",
      "6\n",
      "8\n",
      "10\n"
     ]
    }
   ],
   "source": [
    "# Brick 10 All even number from 0 to n numbers\n",
    "\n",
    "n = int(input(\"Enter the range you want: \"))\n",
    "\n",
    "i = 0\n",
    "while(i<=n):\n",
    "    print(i)\n",
    "    i = i + 2\n"
   ]
  },
  {
   "cell_type": "code",
   "execution_count": null,
   "metadata": {},
   "outputs": [],
   "source": [
    "# Brick 11 All odd number from 0 to n numbers\n",
    "\n",
    "n = int(input(\"Enter the range you want: \"))\n",
    "\n",
    "i = 1\n",
    "while(i<=n):\n",
    "    print(i)\n",
    "    i = i + 2\n"
   ]
  },
  {
   "cell_type": "code",
   "execution_count": 17,
   "metadata": {},
   "outputs": [
    {
     "name": "stdout",
     "output_type": "stream",
     "text": [
      "6\n"
     ]
    }
   ],
   "source": [
    "# Brick 12 Sum of digits of a number\n",
    "\n",
    "n = int(input(\"Enter the numbers\"))\n",
    "\n",
    "sum = 0\n",
    "while(n!=0):\n",
    "    b = n % 10\n",
    "    sum = sum + b\n",
    "    n = n // 10 \n",
    "\n",
    "print(sum)"
   ]
  },
  {
   "cell_type": "code",
   "execution_count": 18,
   "metadata": {},
   "outputs": [
    {
     "name": "stdout",
     "output_type": "stream",
     "text": [
      "321\n"
     ]
    }
   ],
   "source": [
    "# Brick 13Reversing a number\n",
    "\n",
    "n = int(input(\"Enter a No. :\"))\n",
    "sum = 0\n",
    "\n",
    "while n != 0 :\n",
    "    b = n % 10\n",
    "    sum = (sum*10) + b\n",
    "    n = n // 10\n",
    "print(sum)"
   ]
  },
  {
   "cell_type": "code",
   "execution_count": 22,
   "metadata": {},
   "outputs": [
    {
     "name": "stdout",
     "output_type": "stream",
     "text": [
      "Not a Pallindrome number\n"
     ]
    }
   ],
   "source": [
    "# Brick 14 Palindrome number\n",
    "\n",
    "n = int(input())\n",
    "\n",
    "a = n \n",
    "sum = 0\n",
    "while n != 0:\n",
    "    b = n % 10\n",
    "    sum = (sum*10) + b\n",
    "    n = n // 10\n",
    "if a == sum :\n",
    "    print(\"Pallindrome number \")\n",
    "else :\n",
    "    print('Not a Pallindrome number')\n",
    "\n"
   ]
  },
  {
   "cell_type": "code",
   "execution_count": 24,
   "metadata": {},
   "outputs": [
    {
     "name": "stdout",
     "output_type": "stream",
     "text": [
      "13\n"
     ]
    }
   ],
   "source": [
    "# Brick 15 COunting Digits of a number\n",
    "\n",
    "n = int(input())\n",
    "\n",
    "count = 0\n",
    "while n != 0 :\n",
    "    count = count + 1\n",
    "    n = n // 10\n",
    "print(count)"
   ]
  },
  {
   "cell_type": "code",
   "execution_count": 26,
   "metadata": {},
   "outputs": [
    {
     "name": "stdout",
     "output_type": "stream",
     "text": [
      "9\n"
     ]
    }
   ],
   "source": [
    "# Brick 16 Product of a digits of a number\n",
    "\n",
    "n = int(input())\n",
    "\n",
    "prod = 1\n",
    "while n != 0:\n",
    "    b = n % 10\n",
    "    prod = prod * b\n",
    "    n = n // 10\n",
    "\n",
    "print(prod)"
   ]
  },
  {
   "cell_type": "code",
   "execution_count": 28,
   "metadata": {},
   "outputs": [
    {
     "name": "stdout",
     "output_type": "stream",
     "text": [
      "Not a Spy Number\n"
     ]
    }
   ],
   "source": [
    "#  Brick 17 SPY number --> a no is said to be a spy number if the sum of its digits is equal to product of its digit\n",
    "\n",
    "n = int(input())\n",
    "\n",
    "a = n\n",
    "sum = 0\n",
    "prod = 1\n",
    "\n",
    "while n != 0:\n",
    "    b = n % 10\n",
    "    sum = sum + b\n",
    "    prod = prod * b\n",
    "    n = n // 10\n",
    "if sum == prod :\n",
    "    print(\"Spy Number\")\n",
    "else: \n",
    "    print(\"Not a Spy Number\")"
   ]
  },
  {
   "cell_type": "code",
   "execution_count": 29,
   "metadata": {},
   "outputs": [
    {
     "name": "stdout",
     "output_type": "stream",
     "text": [
      "5.0\n"
     ]
    }
   ],
   "source": [
    "# Brick 18 Finding square root of a number\n",
    "\n",
    "from math import sqrt\n",
    "n = int(input())\n",
    "x = sqrt(n)\n",
    "print(x)"
   ]
  },
  {
   "cell_type": "code",
   "execution_count": 31,
   "metadata": {},
   "outputs": [
    {
     "name": "stdout",
     "output_type": "stream",
     "text": [
      "144.0\n"
     ]
    }
   ],
   "source": [
    "# Brick 19 Finding power of a number\n",
    "\n",
    "from math import pow\n",
    "n = int(input('Enter the Number : '))\n",
    "p = int(input('Enter the Power do you want : '))\n",
    "x = pow(n,p)\n",
    "print(x)"
   ]
  },
  {
   "cell_type": "code",
   "execution_count": 34,
   "metadata": {},
   "outputs": [
    {
     "name": "stdout",
     "output_type": "stream",
     "text": [
      "Not an Armstrong Number\n"
     ]
    }
   ],
   "source": [
    "#  Brick 20 Armstrong Number => A number is said to be a armstrong number if the sum of digit's each power to total digitsin the number is equal to the number itself\n",
    "# 153 = 1^3 + 5^3 + 3^3 = 1 + 125 + 27 = 153\n",
    "\n",
    "n = int(input(\"Enter a number : \"))\n",
    "a = n \n",
    "count = 0\n",
    "while n != 0:\n",
    "    count = count + 1\n",
    "    n = n // 10\n",
    "n = a\n",
    "sum = 0 \n",
    "while n != 0:\n",
    "    b = n % 10\n",
    "    sum = sum + (b ** count)\n",
    "    n = n // 10\n",
    "if sum == a :\n",
    "    print(\"Armstrong Number\")\n",
    "else :\n",
    "    print(\"Not an Armstrong Number\")"
   ]
  },
  {
   "cell_type": "code",
   "execution_count": 39,
   "metadata": {},
   "outputs": [
    {
     "name": "stdout",
     "output_type": "stream",
     "text": [
      "2\n",
      "Disarium Number\n"
     ]
    }
   ],
   "source": [
    "# Brick 21 Disarium number => A number is said to be a disarium number if its sum of its digits each power to its corresponding position is equal to the number itself \n",
    "\n",
    "n = int(input())\n",
    "a = n \n",
    "count = 0\n",
    "while n != 0 :\n",
    "    count = count + 1\n",
    "    n = n // 10\n",
    "# print(count)\n",
    "n = a\n",
    "sum = 0\n",
    "while n != 0 :\n",
    "    b = n % 10\n",
    "    sum = sum + (b ** count)\n",
    "    count = count - 1\n",
    "    n = n // 10\n",
    "if sum == a :\n",
    "    print(\"Disarium Number\")\n",
    "else :\n",
    "    print(\"Not a Disarium number \")"
   ]
  },
  {
   "cell_type": "code",
   "execution_count": 42,
   "metadata": {},
   "outputs": [
    {
     "name": "stdout",
     "output_type": "stream",
     "text": [
      "18\n"
     ]
    }
   ],
   "source": [
    "# Brick 22 Sum of factors of a number\n",
    "\n",
    "n = int(input())\n",
    "sum = 0\n",
    "i = 1\n",
    "while i <= n:\n",
    "    if n%i == 0:\n",
    "        sum = sum + i\n",
    "    i = i+1\n",
    "print(sum) \n"
   ]
  },
  {
   "cell_type": "code",
   "execution_count": null,
   "metadata": {},
   "outputs": [],
   "source": [
    "#  Brick 23 Perfect Number => a no is said to be a perfect number if the sum of its factor (Excluding the number) is equal to the number itself\n",
    "\n"
   ]
  }
 ],
 "metadata": {
  "kernelspec": {
   "display_name": "Python 3",
   "language": "python",
   "name": "python3"
  },
  "language_info": {
   "codemirror_mode": {
    "name": "ipython",
    "version": 3
   },
   "file_extension": ".py",
   "mimetype": "text/x-python",
   "name": "python",
   "nbconvert_exporter": "python",
   "pygments_lexer": "ipython3",
   "version": "3.8.0"
  }
 },
 "nbformat": 4,
 "nbformat_minor": 2
}
